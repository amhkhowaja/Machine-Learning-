{
  "nbformat": 4,
  "nbformat_minor": 5,
  "metadata": {
    "kernelspec": {
      "display_name": "Python 3",
      "language": "python",
      "name": "python3"
    },
    "language_info": {
      "codemirror_mode": {
        "name": "ipython",
        "version": 3
      },
      "file_extension": ".py",
      "mimetype": "text/x-python",
      "name": "python",
      "nbconvert_exporter": "python",
      "pygments_lexer": "ipython3",
      "version": "3.8.8"
    },
    "colab": {
      "name": "Fashion MNIST.ipynb",
      "provenance": []
    },
    "accelerator": "GPU"
  },
  "cells": [
    {
      "cell_type": "markdown",
      "metadata": {
        "id": "d75ce71a"
      },
      "source": [
        "# Importing Required Libraries for DeepLearning"
      ],
      "id": "d75ce71a"
    },
    {
      "cell_type": "code",
      "metadata": {
        "id": "9c4d293d"
      },
      "source": [
        "# Importing the required libraries\n",
        "import pandas as pd\n",
        "import numpy as np\n",
        "import tensorflow as tf\n",
        "import matplotlib.pyplot as plt\n",
        "from tensorflow.keras import datasets , models, layers\n"
      ],
      "id": "9c4d293d",
      "execution_count": 1,
      "outputs": []
    },
    {
      "cell_type": "markdown",
      "metadata": {
        "id": "a21b6aeb"
      },
      "source": [
        "# Inputing Data and Analysing the data in different perspective"
      ],
      "id": "a21b6aeb"
    },
    {
      "cell_type": "code",
      "metadata": {
        "id": "b57d5f72"
      },
      "source": [
        ""
      ],
      "id": "b57d5f72",
      "execution_count": null,
      "outputs": []
    },
    {
      "cell_type": "code",
      "metadata": {
        "colab": {
          "base_uri": "https://localhost:8080/"
        },
        "id": "fdd3f7cd",
        "outputId": "198c19e5-70af-4c36-e288-4652eb004020"
      },
      "source": [
        "(X_train, y_train),(X_test, y_test) = datasets.fashion_mnist.load_data()"
      ],
      "id": "fdd3f7cd",
      "execution_count": 2,
      "outputs": [
        {
          "output_type": "stream",
          "name": "stdout",
          "text": [
            "Downloading data from https://storage.googleapis.com/tensorflow/tf-keras-datasets/train-labels-idx1-ubyte.gz\n",
            "32768/29515 [=================================] - 0s 0us/step\n",
            "40960/29515 [=========================================] - 0s 0us/step\n",
            "Downloading data from https://storage.googleapis.com/tensorflow/tf-keras-datasets/train-images-idx3-ubyte.gz\n",
            "26427392/26421880 [==============================] - 0s 0us/step\n",
            "26435584/26421880 [==============================] - 0s 0us/step\n",
            "Downloading data from https://storage.googleapis.com/tensorflow/tf-keras-datasets/t10k-labels-idx1-ubyte.gz\n",
            "16384/5148 [===============================================================================================] - 0s 0us/step\n",
            "Downloading data from https://storage.googleapis.com/tensorflow/tf-keras-datasets/t10k-images-idx3-ubyte.gz\n",
            "4423680/4422102 [==============================] - 0s 0us/step\n",
            "4431872/4422102 [==============================] - 0s 0us/step\n"
          ]
        }
      ]
    },
    {
      "cell_type": "code",
      "metadata": {
        "colab": {
          "base_uri": "https://localhost:8080/",
          "height": 282
        },
        "id": "060f20d3",
        "outputId": "8ae4441b-cad7-4ef1-f5e8-3d46403de972"
      },
      "source": [
        "plt.imshow(X_train[1])   # We can see the image is of shirt\n"
      ],
      "id": "060f20d3",
      "execution_count": 3,
      "outputs": [
        {
          "output_type": "execute_result",
          "data": {
            "text/plain": [
              "<matplotlib.image.AxesImage at 0x7f103165be90>"
            ]
          },
          "metadata": {},
          "execution_count": 3
        },
        {
          "output_type": "display_data",
          "data": {
            "image/png": "[encoded data removed]",
            "text/plain": [
              "<Figure size 432x288 with 1 Axes>"
            ]
          },
          "metadata": {
            "needs_background": "light"
          }
        }
      ]
    },
    {
      "cell_type": "markdown",
      "metadata": {
        "id": "d18a2459"
      },
      "source": [
        "#### Labels\n",
        "\n",
        "Each training and test example is assigned to one of the following labels:\n",
        "\n",
        "0 T-shirt/top\n",
        "\n",
        "1 Trouser\n",
        "2 Pullover\n",
        "3 Dress\n",
        "4 Coat\n",
        "5 Sandal\n",
        "6 Shirt\n",
        "7 Sneaker\n",
        "8 Bag\n",
        "9 Ankle boot"
      ],
      "id": "d18a2459"
    },
    {
      "cell_type": "code",
      "metadata": {
        "id": "7f5b0d77"
      },
      "source": [
        "# So to we will put it in the list for the latter use in the output:\n",
        "label = ['T-shirt/top', 'Trousers', 'Pullover', 'Dress', \n",
        "         'Coat','Sandal', 'Sandal','Shirt', 'Sneaker, Bag',\n",
        "         'Ankle boot']"
      ],
      "id": "7f5b0d77",
      "execution_count": 4,
      "outputs": []
    },
    {
      "cell_type": "code",
      "metadata": {
        "colab": {
          "base_uri": "https://localhost:8080/"
        },
        "id": "5744833f",
        "outputId": "891f29ac-51a4-4f40-f146-fbcc96021361"
      },
      "source": [
        "#[X_train Shape, y_train shape] : \n",
        "[X_train.shape, y_train.shape]"
      ],
      "id": "5744833f",
      "execution_count": 5,
      "outputs": [
        {
          "output_type": "execute_result",
          "data": {
            "text/plain": [
              "[(60000, 28, 28), (60000,)]"
            ]
          },
          "metadata": {},
          "execution_count": 5
        }
      ]
    },
    {
      "cell_type": "code",
      "metadata": {
        "colab": {
          "base_uri": "https://localhost:8080/"
        },
        "id": "d7fec8d0",
        "outputId": "20d00c55-ad65-4c57-ffbd-e412c0451fdb"
      },
      "source": [
        "[X_test.shape, y_test.shape]"
      ],
      "id": "d7fec8d0",
      "execution_count": 6,
      "outputs": [
        {
          "output_type": "execute_result",
          "data": {
            "text/plain": [
              "[(10000, 28, 28), (10000,)]"
            ]
          },
          "metadata": {},
          "execution_count": 6
        }
      ]
    },
    {
      "cell_type": "markdown",
      "metadata": {
        "id": "0588e3ec"
      },
      "source": [
        "# Cleaning Data "
      ],
      "id": "0588e3ec"
    },
    {
      "cell_type": "markdown",
      "metadata": {
        "id": "618807ae"
      },
      "source": [
        "##### This is Fashion MNIST Data , so we just have to NORMALIZE the data as per our use:"
      ],
      "id": "618807ae"
    },
    {
      "cell_type": "code",
      "metadata": {
        "id": "ee6f8926"
      },
      "source": [
        "X_train= X_train/255\n",
        "X_test= X_test/255"
      ],
      "id": "ee6f8926",
      "execution_count": 7,
      "outputs": []
    },
    {
      "cell_type": "markdown",
      "metadata": {
        "id": "9a946212"
      },
      "source": [
        "# Modeling the Data"
      ],
      "id": "9a946212"
    },
    {
      "cell_type": "markdown",
      "metadata": {
        "id": "89967342"
      },
      "source": [
        "cnn: Convolutional Nueral Networks "
      ],
      "id": "89967342"
    },
    {
      "cell_type": "code",
      "metadata": {
        "id": "6a4e1d96"
      },
      "source": [
        "cnn =models.Sequential([\n",
        "    layers.Conv2D(128, kernel_size=(3), padding ='same', activation ='relu'),\n",
        "    layers.MaxPooling2D((2,2), strides=1),\n",
        "    layers.Conv2D(64, kernel_size=(3), padding ='same', activation ='relu'),\n",
        "    layers.MaxPooling2D((2,2), strides=1),\n",
        "    layers.Flatten(),\n",
        "    layers.Dense(64, activation ='relu'),\n",
        "    layers.Dense(10, activation ='softmax')\n",
        "])"
      ],
      "id": "6a4e1d96",
      "execution_count": 8,
      "outputs": []
    },
    {
      "cell_type": "markdown",
      "metadata": {
        "id": "1a290d51"
      },
      "source": [
        "# Compiling the Data "
      ],
      "id": "1a290d51"
    },
    {
      "cell_type": "markdown",
      "metadata": {
        "id": "604ff9d1"
      },
      "source": [
        "Before going for training , model needs more setting , of \n",
        "###### Optimizer ,\n",
        "###### Loss, and \n",
        "###### Metrics\n"
      ],
      "id": "604ff9d1"
    },
    {
      "cell_type": "code",
      "metadata": {
        "id": "c6dc292f"
      },
      "source": [
        "cnn.compile(optimizer='adam', loss='sparse_categorical_crossentropy', metrics=['accuracy'])"
      ],
      "id": "c6dc292f",
      "execution_count": 9,
      "outputs": []
    },
    {
      "cell_type": "markdown",
      "metadata": {
        "id": "856df131"
      },
      "source": [
        "# Training the Data"
      ],
      "id": "856df131"
    },
    {
      "cell_type": "code",
      "metadata": {
        "id": "a0d48c19"
      },
      "source": [
        "X_train = X_train.reshape((X_train.shape[0], 28, 28, 1))\n",
        "X_test = X_test.reshape((X_test.shape[0], 28, 28, 1))"
      ],
      "id": "a0d48c19",
      "execution_count": 10,
      "outputs": []
    },
    {
      "cell_type": "code",
      "metadata": {
        "colab": {
          "base_uri": "https://localhost:8080/"
        },
        "id": "107bb4c0",
        "outputId": "5f5df4cc-2f0c-4093-9c2d-e3f7477ab349"
      },
      "source": [
        "cnn.fit(X_train, y_train, epochs =10)"
      ],
      "id": "107bb4c0",
      "execution_count": 11,
      "outputs": [
        {
          "output_type": "stream",
          "name": "stdout",
          "text": [
            "Epoch 1/10\n",
            "1875/1875 [==============================] - 57s 14ms/step - loss: 0.3522 - accuracy: 0.8723\n",
            "Epoch 2/10\n",
            "1875/1875 [==============================] - 26s 14ms/step - loss: 0.2299 - accuracy: 0.9157\n",
            "Epoch 3/10\n",
            "1875/1875 [==============================] - 26s 14ms/step - loss: 0.1802 - accuracy: 0.9322\n",
            "Epoch 4/10\n",
            "1875/1875 [==============================] - 26s 14ms/step - loss: 0.1429 - accuracy: 0.9470\n",
            "Epoch 5/10\n",
            "1875/1875 [==============================] - 26s 14ms/step - loss: 0.1123 - accuracy: 0.9584\n",
            "Epoch 6/10\n",
            "1875/1875 [==============================] - 26s 14ms/step - loss: 0.0883 - accuracy: 0.9665\n",
            "Epoch 7/10\n",
            "1875/1875 [==============================] - 26s 14ms/step - loss: 0.0675 - accuracy: 0.9751\n",
            "Epoch 8/10\n",
            "1875/1875 [==============================] - 26s 14ms/step - loss: 0.0547 - accuracy: 0.9793\n",
            "Epoch 9/10\n",
            "1875/1875 [==============================] - 26s 14ms/step - loss: 0.0419 - accuracy: 0.9847\n",
            "Epoch 10/10\n",
            "1875/1875 [==============================] - 26s 14ms/step - loss: 0.0360 - accuracy: 0.9866\n"
          ]
        },
        {
          "output_type": "execute_result",
          "data": {
            "text/plain": [
              "<keras.callbacks.History at 0x7f1020424250>"
            ]
          },
          "metadata": {},
          "execution_count": 11
        }
      ]
    },
    {
      "cell_type": "markdown",
      "metadata": {
        "id": "318c81d0"
      },
      "source": [
        "# Evaluating the Data"
      ],
      "id": "318c81d0"
    },
    {
      "cell_type": "code",
      "metadata": {
        "colab": {
          "base_uri": "https://localhost:8080/"
        },
        "id": "de68df15",
        "outputId": "3c46f68e-22a6-4f51-9c68-4338fafc1f45"
      },
      "source": [
        "cnn.evaluate (X_test, y_test)"
      ],
      "id": "de68df15",
      "execution_count": 12,
      "outputs": [
        {
          "output_type": "stream",
          "name": "stdout",
          "text": [
            "313/313 [==============================] - 2s 7ms/step - loss: 0.4505 - accuracy: 0.9196\n"
          ]
        },
        {
          "output_type": "execute_result",
          "data": {
            "text/plain": [
              "[0.4505380392074585, 0.9196000099182129]"
            ]
          },
          "metadata": {},
          "execution_count": 12
        }
      ]
    },
    {
      "cell_type": "code",
      "metadata": {
        "id": "OYFcxVtLLRWX"
      },
      "source": [
        ""
      ],
      "id": "OYFcxVtLLRWX",
      "execution_count": null,
      "outputs": []
    }
  ]
}
